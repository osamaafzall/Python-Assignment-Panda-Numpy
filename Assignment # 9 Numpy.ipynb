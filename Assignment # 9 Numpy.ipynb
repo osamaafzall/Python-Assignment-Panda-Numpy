{
 "cells": [
  {
   "cell_type": "markdown",
   "id": "d3568229",
   "metadata": {},
   "source": [
    "# Numpy array with various operations"
   ]
  },
  {
   "cell_type": "code",
   "execution_count": 1,
   "id": "c591122f",
   "metadata": {},
   "outputs": [
    {
     "name": "stdout",
     "output_type": "stream",
     "text": [
      "Addition:  [ 6  8 10 12]\n",
      "Subtraction:  [-4 -4 -4 -4]\n",
      "Multiplication:  [ 5 12 21 32]\n",
      "Division:  [0.2        0.33333333 0.42857143 0.5       ]\n"
     ]
    }
   ],
   "source": [
    "import numpy as np\n",
    "\n",
    "# Creating two numpy arrays\n",
    "arr1 = np.array([1, 2, 3, 4])\n",
    "arr2 = np.array([5, 6, 7, 8])\n",
    "\n",
    "# Addition\n",
    "add_result = arr1 + arr2\n",
    "\n",
    "# Subtraction\n",
    "sub_result = arr1 - arr2\n",
    "\n",
    "# Multiplication\n",
    "mul_result = arr1 * arr2\n",
    "\n",
    "# Division\n",
    "div_result = arr1 / arr2\n",
    "\n",
    "# Print results\n",
    "print(\"Addition: \", add_result)\n",
    "print(\"Subtraction: \", sub_result)\n",
    "print(\"Multiplication: \", mul_result)\n",
    "print(\"Division: \", div_result)"
   ]
  },
  {
   "cell_type": "markdown",
   "id": "2a1ef328",
   "metadata": {},
   "source": [
    "# Explore indexing and slicing"
   ]
  },
  {
   "cell_type": "code",
   "execution_count": 2,
   "id": "19a7a1d4",
   "metadata": {},
   "outputs": [
    {
     "name": "stdout",
     "output_type": "stream",
     "text": [
      "First element: 10\n",
      "Fourth element: 40\n",
      "Last element: 70\n",
      "Subset 1 (1:4): [20 30 40]\n",
      "Subset 2 (:3): [10 20 30]\n",
      "Subset 3 (4:): [50 60 70]\n",
      "Subset 4 (every 2nd element): [10 30 50 70]\n"
     ]
    }
   ],
   "source": [
    "import numpy as np\n",
    "\n",
    "# Creating a numpy array\n",
    "arr = np.array([10, 20, 30, 40, 50, 60, 70])\n",
    "\n",
    "# Accessing specific elements\n",
    "element_1 = arr[0]  # First element\n",
    "element_2 = arr[3]  # Fourth element\n",
    "element_last = arr[-1]  # Last element\n",
    "\n",
    "# Slicing the array (start:stop:step)\n",
    "subset_1 = arr[1:4]  # Elements from index 1 to 3\n",
    "subset_2 = arr[:3]   # First 3 elements\n",
    "subset_3 = arr[4:]   # Elements from index 4 to the end\n",
    "subset_4 = arr[::2]  # Every second element\n",
    "\n",
    "# Print results\n",
    "print(\"First element:\", element_1)\n",
    "print(\"Fourth element:\", element_2)\n",
    "print(\"Last element:\", element_last)\n",
    "print(\"Subset 1 (1:4):\", subset_1)\n",
    "print(\"Subset 2 (:3):\", subset_2)\n",
    "print(\"Subset 3 (4:):\", subset_3)\n",
    "print(\"Subset 4 (every 2nd element):\", subset_4)"
   ]
  },
  {
   "cell_type": "markdown",
   "id": "39f045a5",
   "metadata": {},
   "source": [
    "# Reshaping arrays"
   ]
  },
  {
   "cell_type": "code",
   "execution_count": 3,
   "id": "22a4b737",
   "metadata": {},
   "outputs": [
    {
     "name": "stdout",
     "output_type": "stream",
     "text": [
      "Original Array: [1 2 3 4 5 6]\n",
      "Reshaped to 2x3 Matrix:\n",
      " [[1 2 3]\n",
      " [4 5 6]]\n",
      "Original Matrix:\n",
      " [[1 2 3]\n",
      " [4 5 6]]\n",
      "Transposed Matrix:\n",
      " [[1 4]\n",
      " [2 5]\n",
      " [3 6]]\n"
     ]
    }
   ],
   "source": [
    "import numpy as np\n",
    "\n",
    "# Creating a numpy array\n",
    "arr = np.array([1, 2, 3, 4, 5, 6])\n",
    "\n",
    "# Reshaping the array into a 2x3 matrix\n",
    "reshaped_arr = arr.reshape(2, 3)\n",
    "\n",
    "# Creating a 2x3 matrix\n",
    "matrix = np.array([[1, 2, 3], [4, 5, 6]])\n",
    "\n",
    "# Transposing the matrix (rows become columns and vice versa)\n",
    "transposed_matrix = matrix.T\n",
    "\n",
    "# Print results\n",
    "print(\"Original Array:\", arr)\n",
    "print(\"Reshaped to 2x3 Matrix:\\n\", reshaped_arr)\n",
    "print(\"Original Matrix:\\n\", matrix)\n",
    "print(\"Transposed Matrix:\\n\", transposed_matrix)"
   ]
  },
  {
   "cell_type": "markdown",
   "id": "b3d0c72c",
   "metadata": {},
   "source": [
    "# Numpy functions to calculate statistics"
   ]
  },
  {
   "cell_type": "code",
   "execution_count": 4,
   "id": "cbe052f5",
   "metadata": {},
   "outputs": [
    {
     "name": "stdout",
     "output_type": "stream",
     "text": [
      "Mean: 30.0\n",
      "Median: 30.0\n",
      "Standard Deviation: 14.142135623730951\n",
      "Variance: 200.0\n"
     ]
    }
   ],
   "source": [
    "import numpy as np\n",
    "\n",
    "# Creating a numpy array\n",
    "arr = np.array([10, 20, 30, 40, 50])\n",
    "\n",
    "# Calculating statistics\n",
    "mean_value = np.mean(arr)\n",
    "median_value = np.median(arr)\n",
    "std_dev_value = np.std(arr)\n",
    "variance_value = np.var(arr)\n",
    "\n",
    "# Print results\n",
    "print(\"Mean:\", mean_value)\n",
    "print(\"Median:\", median_value)\n",
    "print(\"Standard Deviation:\", std_dev_value)\n",
    "print(\"Variance:\", variance_value)"
   ]
  },
  {
   "cell_type": "markdown",
   "id": "3f1d85b3",
   "metadata": {},
   "source": [
    "# Arrays with different data types"
   ]
  },
  {
   "cell_type": "code",
   "execution_count": 5,
   "id": "d6a8e288",
   "metadata": {},
   "outputs": [
    {
     "name": "stdout",
     "output_type": "stream",
     "text": [
      "Integer Array: [1 2 3 4] Data Type: int32\n",
      "Float Array: [1.1 2.2 3.3 4.4] Data Type: float64\n",
      "Boolean Array: [ True False  True] Data Type: bool\n",
      "String Array: ['apple' 'banana' 'cherry'] Data Type: <U6\n"
     ]
    }
   ],
   "source": [
    "import numpy as np\n",
    "\n",
    "# Creating arrays with different data types\n",
    "int_array = np.array([1, 2, 3, 4], dtype=int)\n",
    "float_array = np.array([1.1, 2.2, 3.3, 4.4], dtype=float)\n",
    "bool_array = np.array([True, False, True], dtype=bool)\n",
    "str_array = np.array([\"apple\", \"banana\", \"cherry\"], dtype=str)\n",
    "\n",
    "# Print the arrays and their data types\n",
    "print(\"Integer Array:\", int_array, \"Data Type:\", int_array.dtype)\n",
    "print(\"Float Array:\", float_array, \"Data Type:\", float_array.dtype)\n",
    "print(\"Boolean Array:\", bool_array, \"Data Type:\", bool_array.dtype)\n",
    "print(\"String Array:\", str_array, \"Data Type:\", str_array.dtype)"
   ]
  },
  {
   "cell_type": "markdown",
   "id": "76802fc2",
   "metadata": {},
   "source": [
    "# Concatenate arrays "
   ]
  },
  {
   "cell_type": "code",
   "execution_count": 6,
   "id": "9a1bf0c9",
   "metadata": {},
   "outputs": [
    {
     "name": "stdout",
     "output_type": "stream",
     "text": [
      "Concatenated Array: [1 2 3 4 5 6]\n"
     ]
    }
   ],
   "source": [
    "import numpy as np\n",
    "\n",
    "# Creating two numpy arrays\n",
    "arr1 = np.array([1, 2, 3])\n",
    "arr2 = np.array([4, 5, 6])\n",
    "\n",
    "# Concatenating the arrays along axis 0 (row-wise)\n",
    "concatenated_arr = np.concatenate((arr1, arr2))\n",
    "\n",
    "# Print the result\n",
    "print(\"Concatenated Array:\", concatenated_arr)"
   ]
  },
  {
   "cell_type": "markdown",
   "id": "6e8eb0f4",
   "metadata": {},
   "source": [
    "#  arrays in ascending or descending order."
   ]
  },
  {
   "cell_type": "code",
   "execution_count": 7,
   "id": "5291b297",
   "metadata": {},
   "outputs": [
    {
     "name": "stdout",
     "output_type": "stream",
     "text": [
      "Original Array: [5 2 9 1 7 6]\n",
      "Sorted in Ascending Order: [1 2 5 6 7 9]\n",
      "Sorted in Descending Order: [9 7 6 5 2 1]\n"
     ]
    }
   ],
   "source": [
    "import numpy as np\n",
    "\n",
    "# Creating a numpy array\n",
    "arr = np.array([5, 2, 9, 1, 7, 6])\n",
    "\n",
    "# Sorting in ascending order\n",
    "sorted_asc = np.sort(arr)\n",
    "\n",
    "# Sorting in descending order\n",
    "sorted_desc = np.sort(arr)[::-1]\n",
    "\n",
    "# Print results\n",
    "print(\"Original Array:\", arr)\n",
    "print(\"Sorted in Ascending Order:\", sorted_asc)\n",
    "print(\"Sorted in Descending Order:\", sorted_desc)"
   ]
  },
  {
   "cell_type": "code",
   "execution_count": null,
   "id": "cdf683cb",
   "metadata": {},
   "outputs": [],
   "source": []
  }
 ],
 "metadata": {
  "kernelspec": {
   "display_name": "Python 3 (ipykernel)",
   "language": "python",
   "name": "python3"
  },
  "language_info": {
   "codemirror_mode": {
    "name": "ipython",
    "version": 3
   },
   "file_extension": ".py",
   "mimetype": "text/x-python",
   "name": "python",
   "nbconvert_exporter": "python",
   "pygments_lexer": "ipython3",
   "version": "3.11.5"
  }
 },
 "nbformat": 4,
 "nbformat_minor": 5
}
